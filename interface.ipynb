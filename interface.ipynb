{
 "cells": [
  {
   "cell_type": "code",
   "execution_count": 1,
   "metadata": {},
   "outputs": [
    {
     "name": "stdout",
     "output_type": "stream",
     "text": [
      "Collecting inputs\n",
      "  Downloading inputs-0.5-py2.py3-none-any.whl.metadata (1.9 kB)\n",
      "Downloading inputs-0.5-py2.py3-none-any.whl (33 kB)\n",
      "Installing collected packages: inputs\n",
      "Successfully installed inputs-0.5\n",
      "Note: you may need to restart the kernel to use updated packages.\n"
     ]
    }
   ],
   "source": [
    "%pip install inputs"
   ]
  },
  {
   "cell_type": "code",
   "execution_count": 5,
   "metadata": {},
   "outputs": [
    {
     "name": "stdout",
     "output_type": "stream",
     "text": [
      "[inputs.Keyboard(\"/dev/input/by-id/usb-A_Nice_Keyboard-event-kbd\"), inputs.Mouse(\"/dev/input/by-id/usb-A_Nice_Mouse_called_Arthur-event-mouse\")]\n"
     ]
    }
   ],
   "source": [
    "from inputs import devices\n",
    "\n",
    "print(devices.all_devices)"
   ]
  },
  {
   "cell_type": "code",
   "execution_count": 6,
   "metadata": {},
   "outputs": [
    {
     "name": "stdout",
     "output_type": "stream",
     "text": [
      "Requirement already satisfied: setuptools in g:\\wave stuff\\ddrmat\\.venv\\lib\\site-packages (65.5.0)\n",
      "Collecting setuptools\n",
      "  Downloading setuptools-75.2.0-py3-none-any.whl.metadata (6.9 kB)\n",
      "Downloading setuptools-75.2.0-py3-none-any.whl (1.2 MB)\n",
      "   ---------------------------------------- 0.0/1.2 MB ? eta -:--:--\n",
      "   ---------------------------------------- 1.2/1.2 MB 10.5 MB/s eta 0:00:00\n",
      "Installing collected packages: setuptools\n",
      "  Attempting uninstall: setuptools\n",
      "    Found existing installation: setuptools 65.5.0\n",
      "    Uninstalling setuptools-65.5.0:\n",
      "      Successfully uninstalled setuptools-65.5.0\n",
      "Successfully installed setuptools-75.2.0\n",
      "Note: you may need to restart the kernel to use updated packages.\n",
      "Collecting hidapi\n",
      "  Downloading hidapi-0.14.0.post2-cp311-cp311-win_amd64.whl.metadata (3.7 kB)\n",
      "Requirement already satisfied: setuptools>=19.0 in g:\\wave stuff\\ddrmat\\.venv\\lib\\site-packages (from hidapi) (75.2.0)\n",
      "Downloading hidapi-0.14.0.post2-cp311-cp311-win_amd64.whl (64 kB)\n",
      "Installing collected packages: hidapi\n",
      "Successfully installed hidapi-0.14.0.post2\n",
      "Note: you may need to restart the kernel to use updated packages.\n"
     ]
    }
   ],
   "source": [
    "%pip install --upgrade setuptools\n",
    "%pip install hidapi"
   ]
  },
  {
   "cell_type": "code",
   "execution_count": 2,
   "metadata": {},
   "outputs": [
    {
     "name": "stdout",
     "output_type": "stream",
     "text": [
      "0xfeed:0x6060 keyboard\n",
      "0xfeed:0x6060 keyboard\n",
      "0x320f:0x5064 USB DEVICE\n",
      "0x3434:0xd033 Keychron M3 \n",
      "0x3434:0xd030 Keychron Link \n",
      "0x3434:0xd030 Keychron Link \n",
      "0x3434:0xd033 Keychron M3 \n",
      "0x3434:0xd030 Keychron Link \n",
      "0x3434:0xd033 Keychron M3 \n",
      "0xfeed:0x6060 keyboard\n",
      "0x320f:0x5064 USB DEVICE\n",
      "0x3434:0xd030 Keychron Link \n",
      "0xfeed:0x6060 keyboard\n",
      "0x048d:0x5702 ITE Device\n",
      "0x320f:0x5064 USB DEVICE\n",
      "0x048d:0x5702 ITE Device\n",
      "0x320f:0x5064 USB DEVICE\n",
      "0xfeed:0x6060 keyboard\n",
      "0x320f:0x5064 USB DEVICE\n",
      "0x3434:0xd030 Keychron Link \n",
      "0x320f:0x5064 USB DEVICE\n",
      "0x3434:0xd030 Keychron Link \n",
      "0x0951:0x170f HyperX SoloCast\n",
      "0x0951:0x170f HyperX SoloCast\n",
      "0x3434:0xd033 Keychron M3 \n"
     ]
    }
   ],
   "source": [
    "import hid\n",
    "\n",
    "for device in hid.enumerate():\n",
    "    print(f\"0x{device['vendor_id']:04x}:0x{device['product_id']:04x} {device['product_string']}\")"
   ]
  },
  {
   "cell_type": "code",
   "execution_count": 10,
   "metadata": {},
   "outputs": [
    {
     "name": "stdout",
     "output_type": "stream",
     "text": [
      "<hid.device object at 0x000001CD3051BD00>\n"
     ]
    }
   ],
   "source": [
    "gamepad = hid.device()\n",
    "gamepad.open(0x0079, 0x0011) # The vendor and product IDs of the gamepad\n",
    "gamepad.set_nonblocking(True)\n",
    "\n",
    "print(gamepad)"
   ]
  },
  {
   "cell_type": "markdown",
   "metadata": {},
   "source": [
    "# \"Calibration\" code to find the bit for each button"
   ]
  },
  {
   "cell_type": "code",
   "execution_count": 12,
   "metadata": {},
   "outputs": [],
   "source": [
    "BIT_NAMES = {}"
   ]
  },
  {
   "cell_type": "code",
   "execution_count": 13,
   "metadata": {},
   "outputs": [
    {
     "name": "stdout",
     "output_type": "stream",
     "text": [
      "Bit 46 changed to 1\n",
      "Bit 46 changed to 0\n",
      "Bit 47 changed to 1\n",
      "Bit 47 changed to 0\n",
      "Bit 44 changed to 1\n",
      "Bit 44 changed to 0\n",
      "Bit 45 changed to 1\n",
      "Bit 45 changed to 0\n",
      "Bit 53 changed to 1\n",
      "Bit 53 changed to 0\n",
      "Bit 52 changed to 1\n",
      "Bit 52 changed to 0\n",
      "Bit 39 changed to 1\n",
      "Bit 39 changed to 0\n",
      "Bit 51 changed to 1\n",
      "Bit 51 changed to 0\n",
      "Bit 50 changed to 1\n",
      "Bit 50 changed to 0\n",
      "Bit 49 changed to 1\n",
      "Bit 49 changed to 0\n",
      "Bit 48 changed to 1\n",
      "Bit 48 changed to 0\n",
      "Bit 48 changed to 1\n",
      "Bit 48 changed to 0\n",
      "Bit 45 changed to 1\n",
      "Bit 45 changed to 0\n",
      "Bit 49 changed to 1\n",
      "Bit 49 changed to 0\n",
      "Bit 44 changed to 1\n",
      "Bit 44 changed to 0\n",
      "Bit 46 changed to 1\n",
      "Bit 39 changed to 1\n",
      "Bit 46 changed to 0\n",
      "Bit 39 changed to 0\n",
      "Bit 47 changed to 1\n",
      "Bit 47 changed to 0\n",
      "Bit 51 changed to 1\n",
      "Bit 51 changed to 0\n",
      "Bit 46 changed to 1\n",
      "Bit 46 changed to 0\n",
      "Bit 46 changed to 1\n",
      "Bit 46 changed to 0\n",
      "Bit 50 changed to 1\n",
      "Bit 50 changed to 0\n",
      "Bit 52 changed to 1\n",
      "Bit 52 changed to 0\n",
      "Bit 52 changed to 1\n",
      "Bit 52 changed to 0\n",
      "Bit 53 changed to 1\n",
      "Bit 53 changed to 0\n",
      "Bit 47 changed to 1\n",
      "Bit 51 changed to 1\n",
      "Bit 46 changed to 1\n",
      "Bit 39 changed to 1\n",
      "Bit 47 changed to 0\n",
      "Bit 46 changed to 0\n",
      "Bit 51 changed to 0\n",
      "Bit 46 changed to 1\n",
      "Bit 44 changed to 1\n",
      "Bit 44 changed to 0\n",
      "Bit 39 changed to 0\n",
      "Bit 44 changed to 1\n",
      "Bit 46 changed to 0\n",
      "Bit 44 changed to 0\n"
     ]
    },
    {
     "ename": "KeyboardInterrupt",
     "evalue": "",
     "output_type": "error",
     "traceback": [
      "\u001b[1;31m---------------------------------------------------------------------------\u001b[0m",
      "\u001b[1;31mKeyboardInterrupt\u001b[0m                         Traceback (most recent call last)",
      "Cell \u001b[1;32mIn[13], line 25\u001b[0m\n\u001b[0;32m     22\u001b[0m                     BIT_NAMES[bit] \u001b[38;5;241m=\u001b[39m name\n\u001b[0;32m     24\u001b[0m     last_bits \u001b[38;5;241m=\u001b[39m bits\n\u001b[1;32m---> 25\u001b[0m     sleep(\u001b[38;5;241m1\u001b[39m \u001b[38;5;241m/\u001b[39m \u001b[38;5;241m60\u001b[39m)\n\u001b[0;32m     26\u001b[0m \u001b[38;5;28;01melse\u001b[39;00m:\n\u001b[0;32m     27\u001b[0m     \u001b[38;5;28mprint\u001b[39m(\u001b[38;5;124m\"\u001b[39m\u001b[38;5;124mNo data...\u001b[39m\u001b[38;5;124m\"\u001b[39m)\n",
      "\u001b[1;31mKeyboardInterrupt\u001b[0m: "
     ]
    }
   ],
   "source": [
    "from time import sleep\n",
    "\n",
    "data_wait_count = 0\n",
    "last_bits = None\n",
    "while True:\n",
    "    report = gamepad.read(64)\n",
    "    if report:\n",
    "        # Convert the array of 8 0-255 values to a bit array\n",
    "        bits = [0] * 64\n",
    "        for i in range(8):\n",
    "            for j in range(8):\n",
    "                bits[i * 8 + j] = (report[i] >> j) & 1\n",
    "\n",
    "        # Only print the bit array if it has changed\n",
    "        if last_bits != None and bits != last_bits:\n",
    "            for bit in range(len(bits)):\n",
    "                if last_bits[bit] != bits[bit]:\n",
    "                    print(f\"Bit {bit} changed to {bits[bit]}\")\n",
    "                    # Ask the user if they want to map this bit to a name\n",
    "                    if bit not in BIT_NAMES:\n",
    "                        name = input(\"Enter a name for this bit: \")\n",
    "                        BIT_NAMES[bit] = name\n",
    "\n",
    "        last_bits = bits\n",
    "        sleep(1 / 60)\n",
    "    else:\n",
    "        print(\"No data...\")\n",
    "        data_wait_count += 1\n",
    "        sleep(0.1)\n",
    "        if data_wait_count > 10:\n",
    "            print(\"No data for 10 iterations, breaking...\")\n",
    "            break"
   ]
  },
  {
   "cell_type": "code",
   "execution_count": 15,
   "metadata": {},
   "outputs": [
    {
     "name": "stdout",
     "output_type": "stream",
     "text": [
      "{46: 'Up arrow', 47: 'Right arrow', 44: 'Left arrow', 45: 'Down arrow', 53: 'Start', 52: 'Select', 39: 'Center', 51: 'Top right circle', 50: 'Top left X', 49: 'Bottom left triangle', 48: 'Bottom right square'}\n"
     ]
    }
   ],
   "source": [
    "print(BIT_NAMES)\n",
    "\n",
    "# Save the bit names to a file\n",
    "with open(\"bit_names.txt\", \"w\") as f:\n",
    "    for bit, name in BIT_NAMES.items():\n",
    "        f.write(f\"{bit} {name}\\n\")"
   ]
  },
  {
   "cell_type": "code",
   "execution_count": 17,
   "metadata": {},
   "outputs": [],
   "source": [
    "gamepad.close() # If not continuing to the execution part, close the device"
   ]
  },
  {
   "cell_type": "markdown",
   "metadata": {},
   "source": [
    "# Execution code"
   ]
  },
  {
   "cell_type": "code",
   "execution_count": 12,
   "metadata": {},
   "outputs": [
    {
     "name": "stdout",
     "output_type": "stream",
     "text": [
      "Loaded 11 bit names: {46: 'Up arrow', 47: 'Right arrow', 44: 'Left arrow', 45: 'Down arrow', 53: 'Start', 52: 'Select', 39: 'Center', 51: 'Top right circle', 50: 'Top left X', 49: 'Bottom left triangle', 48: 'Bottom right square'}\n"
     ]
    }
   ],
   "source": [
    "BIT_NAMES = {}\n",
    "\n",
    "# Load the bit names from a file\n",
    "with open(\"bit_names.txt\", \"r\") as f:\n",
    "    for line in f:\n",
    "        bit, name = line.strip().split(\" \", 1)\n",
    "        BIT_NAMES[int(bit)] = name\n",
    "\n",
    "print(f\"Loaded {len(BIT_NAMES)} bit names: {BIT_NAMES}\")"
   ]
  },
  {
   "cell_type": "code",
   "execution_count": 22,
   "metadata": {},
   "outputs": [
    {
     "data": {
      "text/plain": [
       "'No buttons held'"
      ]
     },
     "metadata": {},
     "output_type": "display_data"
    },
    {
     "ename": "KeyboardInterrupt",
     "evalue": "",
     "output_type": "error",
     "traceback": [
      "\u001b[1;31m---------------------------------------------------------------------------\u001b[0m",
      "\u001b[1;31mKeyboardInterrupt\u001b[0m                         Traceback (most recent call last)",
      "Cell \u001b[1;32mIn[22], line 19\u001b[0m\n\u001b[0;32m     16\u001b[0m     \u001b[38;5;28;01melse\u001b[39;00m:\n\u001b[0;32m     17\u001b[0m         held_button_display\u001b[38;5;241m.\u001b[39mupdate(\u001b[38;5;124m\"\u001b[39m\u001b[38;5;124mNo buttons held\u001b[39m\u001b[38;5;124m\"\u001b[39m)\n\u001b[1;32m---> 19\u001b[0m     sleep(\u001b[38;5;241m1.0\u001b[39m \u001b[38;5;241m/\u001b[39m \u001b[38;5;241m60\u001b[39m)\n\u001b[0;32m     20\u001b[0m \u001b[38;5;28;01melse\u001b[39;00m:\n\u001b[0;32m     21\u001b[0m     \u001b[38;5;28mprint\u001b[39m(\u001b[38;5;124m\"\u001b[39m\u001b[38;5;124mNo data...\u001b[39m\u001b[38;5;124m\"\u001b[39m)\n",
      "\u001b[1;31mKeyboardInterrupt\u001b[0m: "
     ]
    }
   ],
   "source": [
    "from IPython.display import display\n",
    "\n",
    "held_button_display = display(\"No buttons held\", display_id=True)\n",
    "\n",
    "while True:\n",
    "    report = gamepad.read(64)\n",
    "    if report:\n",
    "        # Print every held button with its name\n",
    "        held_buttons = []\n",
    "        for bit, name in BIT_NAMES.items():\n",
    "            if report[bit // 8] & (1 << (bit % 8)):\n",
    "                held_buttons.append(name)\n",
    "        \n",
    "        if held_buttons:\n",
    "            held_button_display.update(f\"Held buttons: {', '.join(held_buttons)}\")\n",
    "        else:\n",
    "            held_button_display.update(\"No buttons held\")\n",
    "\n",
    "        sleep(1.0 / 60)\n",
    "    else:\n",
    "        print(\"No data...\")\n",
    "        sleep(0.1)"
   ]
  },
  {
   "cell_type": "code",
   "execution_count": 30,
   "metadata": {},
   "outputs": [
    {
     "name": "stdout",
     "output_type": "stream",
     "text": [
      "Collecting pyntcore\n",
      "  Downloading pyntcore-2024.3.2.1-cp311-cp311-win_amd64.whl.metadata (493 bytes)\n",
      "Collecting robotpy-wpiutil==2024.3.2.1 (from pyntcore)\n",
      "  Downloading robotpy_wpiutil-2024.3.2.1-cp311-cp311-win_amd64.whl.metadata (294 bytes)\n",
      "Collecting robotpy-wpinet==2024.3.2.1 (from pyntcore)\n",
      "  Downloading robotpy_wpinet-2024.3.2.1-cp311-cp311-win_amd64.whl.metadata (709 bytes)\n",
      "Downloading pyntcore-2024.3.2.1-cp311-cp311-win_amd64.whl (1.6 MB)\n",
      "   ---------------------------------------- 0.0/1.6 MB ? eta -:--:--\n",
      "   ---------------------------------------- 1.6/1.6 MB 12.6 MB/s eta 0:00:00\n",
      "Downloading robotpy_wpinet-2024.3.2.1-cp311-cp311-win_amd64.whl (956 kB)\n",
      "   ---------------------------------------- 0.0/956.9 kB ? eta -:--:--\n",
      "   --------------------------------------- 956.9/956.9 kB 22.4 MB/s eta 0:00:00\n",
      "Downloading robotpy_wpiutil-2024.3.2.1-cp311-cp311-win_amd64.whl (3.8 MB)\n",
      "   ---------------------------------------- 0.0/3.8 MB ? eta -:--:--\n",
      "   ---------------------------------------- 3.8/3.8 MB 18.7 MB/s eta 0:00:00\n",
      "Installing collected packages: robotpy-wpiutil, robotpy-wpinet, pyntcore\n",
      "Successfully installed pyntcore-2024.3.2.1 robotpy-wpinet-2024.3.2.1 robotpy-wpiutil-2024.3.2.1\n",
      "Note: you may need to restart the kernel to use updated packages.\n"
     ]
    }
   ],
   "source": [
    "%pip install pyntcore"
   ]
  },
  {
   "cell_type": "code",
   "execution_count": 13,
   "metadata": {},
   "outputs": [
    {
     "name": "stdout",
     "output_type": "stream",
     "text": [
      "Sending FORWARD True\n",
      "Sending RIGHT True\n",
      "Sending FORWARD False\n",
      "Sending RIGHT False\n",
      "Sending FORWARD True\n",
      "Sending FORWARD False\n",
      "Sending FORWARD True\n",
      "Sending LEFT True\n",
      "Sending TURN_RIGHT True\n",
      "Sending TURN_RIGHT False\n",
      "Sending FORWARD False\n",
      "Sending LEFT False\n",
      "Sending TURN_RIGHT True\n",
      "Sending TURN_RIGHT False\n",
      "Sending FORWARD True\n",
      "Sending LEFT True\n",
      "Sending LEFT False\n",
      "Sending FORWARD False\n",
      "Sending FORWARD True\n",
      "Sending FORWARD False\n",
      "Sending RIGHT True\n",
      "Sending RIGHT False\n"
     ]
    },
    {
     "ename": "KeyboardInterrupt",
     "evalue": "",
     "output_type": "error",
     "traceback": [
      "\u001b[1;31m---------------------------------------------------------------------------\u001b[0m",
      "\u001b[1;31mKeyboardInterrupt\u001b[0m                         Traceback (most recent call last)",
      "Cell \u001b[1;32mIn[13], line 67\u001b[0m\n\u001b[0;32m     64\u001b[0m                 \u001b[38;5;28mprint\u001b[39m(\u001b[38;5;124mf\u001b[39m\u001b[38;5;124m\"\u001b[39m\u001b[38;5;124mSending \u001b[39m\u001b[38;5;132;01m{\u001b[39;00mbutton\u001b[38;5;132;01m}\u001b[39;00m\u001b[38;5;124m \u001b[39m\u001b[38;5;132;01m{\u001b[39;00mnew_pressed\u001b[38;5;132;01m}\u001b[39;00m\u001b[38;5;124m\"\u001b[39m)\n\u001b[0;32m     65\u001b[0m                 table\u001b[38;5;241m.\u001b[39mputBoolean(button, new_pressed)\n\u001b[1;32m---> 67\u001b[0m     sleep(\u001b[38;5;241m1.0\u001b[39m \u001b[38;5;241m/\u001b[39m \u001b[38;5;241m60\u001b[39m)\n\u001b[0;32m     68\u001b[0m \u001b[38;5;28;01melse\u001b[39;00m:\n\u001b[0;32m     69\u001b[0m     \u001b[38;5;28mprint\u001b[39m(\u001b[38;5;124m\"\u001b[39m\u001b[38;5;124mNo data...\u001b[39m\u001b[38;5;124m\"\u001b[39m)\n",
      "\u001b[1;31mKeyboardInterrupt\u001b[0m: "
     ]
    }
   ],
   "source": [
    "# Actual NetworkTables code\n",
    "\n",
    "import ntcore\n",
    "from time import sleep\n",
    "\n",
    "nt_instance = ntcore.NetworkTableInstance.getDefault()\n",
    "\n",
    "print(f\"Setting up NetworkTables client\")\n",
    "nt_instance.startClient4(\"NTControls\")\n",
    "nt_instance.setServer(\"127.0.0.1\")\n",
    "nt_instance.startDSClient()\n",
    "\n",
    "# Wait for connection\n",
    "print(\"Waiting for connection to NetworkTables server...\")\n",
    "while not nt_instance.isConnected():\n",
    "    sleep(0.1)\n",
    "\n",
    "print(\"Connected!\")\n",
    "\n",
    "table = nt_instance.getTable(\"NTControls\")\n",
    "\n",
    "BUTTON_TO_NT_INPUT = {\n",
    "    # Manually authored for now\n",
    "    \"Up arrow\": \"FORWARD\",\n",
    "    \"Right arrow\": \"RIGHT\",\n",
    "    \"Left arrow\": \"LEFT\",\n",
    "    \"Down arrow\": \"BACK\",\n",
    "    \"Start\": \"TURN_LEFT\",\n",
    "    \"Select\": \"TURN_RIGHT\",\n",
    "    \"Center\": None, # N/A\n",
    "    \"Top right circle\": [\"FORWARD\", \"RIGHT\"],\n",
    "    \"Top left X\": [\"FORWARD\", \"LEFT\"],\n",
    "    \"Bottom left triangle\": [\"BACK\", \"LEFT\"],\n",
    "    \"Bottom right square\": [\"BACK\", \"RIGHT\"]\n",
    "}\n",
    "\n",
    "pressed_buttons = {}\n",
    "\n",
    "while True:\n",
    "    report = gamepad.read(64)\n",
    "    if report:\n",
    "        # Send every held button with its name to NetworkTables\n",
    "        for bit, name in BIT_NAMES.items():\n",
    "            if not name in BUTTON_TO_NT_INPUT or BUTTON_TO_NT_INPUT[name] == None:\n",
    "                continue\n",
    "\n",
    "            buttons = BUTTON_TO_NT_INPUT[name]\n",
    "            if not isinstance(buttons, list):\n",
    "                buttons = [buttons]\n",
    "            \n",
    "            pressed = report[bit // 8] & (1 << (bit % 8))\n",
    "            for button in buttons:\n",
    "                if not button in pressed_buttons:\n",
    "                    pressed_buttons[button] = set()\n",
    "                \n",
    "                prev_pressed = len(pressed_buttons[button]) > 0\n",
    "                if pressed:\n",
    "                    pressed_buttons[button].add(name)\n",
    "                else:\n",
    "                    pressed_buttons[button].discard(name)\n",
    "                new_pressed = len(pressed_buttons[button]) > 0\n",
    "\n",
    "                if prev_pressed != new_pressed:\n",
    "                    print(f\"Sending {button} {new_pressed}\")\n",
    "                    table.putBoolean(button, new_pressed)\n",
    "                \n",
    "        sleep(1.0 / 60)\n",
    "    else:\n",
    "        print(\"No data...\")\n",
    "        sleep(0.1)"
   ]
  }
 ],
 "metadata": {
  "kernelspec": {
   "display_name": ".venv",
   "language": "python",
   "name": "python3"
  },
  "language_info": {
   "codemirror_mode": {
    "name": "ipython",
    "version": 3
   },
   "file_extension": ".py",
   "mimetype": "text/x-python",
   "name": "python",
   "nbconvert_exporter": "python",
   "pygments_lexer": "ipython3",
   "version": "3.11.9"
  }
 },
 "nbformat": 4,
 "nbformat_minor": 2
}
