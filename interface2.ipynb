{
 "cells": [
  {
   "cell_type": "code",
   "execution_count": 1,
   "metadata": {},
   "outputs": [
    {
     "name": "stdout",
     "output_type": "stream",
     "text": [
      "Collecting vgamepad\n",
      "  Downloading vgamepad-0.1.0.tar.gz (1.2 MB)\n",
      "     ---------------------------------------- 0.0/1.2 MB ? eta -:--:--\n",
      "     ----------------------------------- ---- 1.0/1.2 MB 12.5 MB/s eta 0:00:01\n",
      "     ----------------------------------- ---- 1.0/1.2 MB 12.5 MB/s eta 0:00:01\n",
      "     ----------------------------------- ---- 1.0/1.2 MB 12.5 MB/s eta 0:00:01\n",
      "     ---------------------------------------- 1.2/1.2 MB 1.4 MB/s eta 0:00:00\n",
      "  Installing build dependencies: started\n",
      "  Installing build dependencies: finished with status 'done'\n",
      "  Getting requirements to build wheel: started\n",
      "  Getting requirements to build wheel: finished with status 'done'\n",
      "  Preparing metadata (pyproject.toml): started\n",
      "  Preparing metadata (pyproject.toml): finished with status 'done'\n",
      "Building wheels for collected packages: vgamepad\n",
      "  Building wheel for vgamepad (pyproject.toml): started\n",
      "  Building wheel for vgamepad (pyproject.toml): finished with status 'done'\n",
      "  Created wheel for vgamepad: filename=vgamepad-0.1.0-py3-none-any.whl size=1169219 sha256=b87f4690a99baa8916094d53b7edb1c77a76b02f14136b1492b40170af1bf840\n",
      "  Stored in directory: c:\\users\\wave\\appdata\\local\\pip\\cache\\wheels\\56\\5d\\a8\\db3cf10072d8b2d37377dca25f80caedae9e6df5d6d70966f4\n",
      "Successfully built vgamepad\n",
      "Installing collected packages: vgamepad\n",
      "Successfully installed vgamepad-0.1.0\n",
      "Note: you may need to restart the kernel to use updated packages.\n"
     ]
    }
   ],
   "source": [
    "%pip install vgamepad"
   ]
  },
  {
   "cell_type": "code",
   "execution_count": 2,
   "metadata": {},
   "outputs": [
    {
     "name": "stdout",
     "output_type": "stream",
     "text": [
      "0x04f3:0x3147 HIDI2C Device\n",
      "0x8087:0x0a1e \n",
      "0x045e:0x02ff Controller (Xbox One For Windows)\n",
      "0x04f3:0x3147 HIDI2C Device\n",
      "0x04f3:0x3147 HIDI2C Device\n",
      "0x045e:0x0000 \n",
      "0x045e:0x0000 \n",
      "0x045e:0x0000 \n",
      "0x045e:0x0b02 Controller (Xbox One For Windows)\n",
      "0x04f3:0x3147 HIDI2C Device\n"
     ]
    }
   ],
   "source": [
    "import hid\n",
    "\n",
    "for device in hid.enumerate():\n",
    "    print(f\"0x{device['vendor_id']:04x}:0x{device['product_id']:04x} {device['product_string']}\")"
   ]
  },
  {
   "cell_type": "code",
   "execution_count": 5,
   "metadata": {},
   "outputs": [
    {
     "name": "stdout",
     "output_type": "stream",
     "text": [
      "<hid.device object at 0x000001E268B18E80>\n"
     ]
    }
   ],
   "source": [
    "gamepad = hid.device()\n",
    "gamepad.open(0x0079, 0x0011) # The vendor and product IDs of the gamepad\n",
    "gamepad.set_nonblocking(True)\n",
    "\n",
    "print(gamepad)"
   ]
  },
  {
   "cell_type": "code",
   "execution_count": 6,
   "metadata": {},
   "outputs": [],
   "source": [
    "import vgamepad as vg\n",
    "\n",
    "virtualGamepad = vg.VX360Gamepad()"
   ]
  },
  {
   "cell_type": "code",
   "execution_count": 8,
   "metadata": {},
   "outputs": [
    {
     "name": "stdout",
     "output_type": "stream",
     "text": [
      "Loaded 11 bit names: {46: 'Up arrow', 47: 'Right arrow', 44: 'Left arrow', 45: 'Down arrow', 53: 'Start', 52: 'Select', 39: 'Center', 51: 'Top right circle', 50: 'Top left X', 49: 'Bottom left triangle', 48: 'Bottom right square'}\n"
     ]
    }
   ],
   "source": [
    "BIT_NAMES = {}\n",
    "\n",
    "# Load the bit names from a file\n",
    "with open(\"bit_names.txt\", \"r\") as f:\n",
    "    for line in f:\n",
    "        bit, name = line.strip().split(\" \", 1)\n",
    "        BIT_NAMES[int(bit)] = name\n",
    "\n",
    "print(f\"Loaded {len(BIT_NAMES)} bit names: {BIT_NAMES}\")"
   ]
  },
  {
   "cell_type": "code",
   "execution_count": 18,
   "metadata": {},
   "outputs": [
    {
     "ename": "KeyboardInterrupt",
     "evalue": "",
     "output_type": "error",
     "traceback": [
      "\u001b[1;31m---------------------------------------------------------------------------\u001b[0m",
      "\u001b[1;31mKeyboardInterrupt\u001b[0m                         Traceback (most recent call last)",
      "Cell \u001b[1;32mIn[18], line 29\u001b[0m\n\u001b[0;32m     26\u001b[0m     \u001b[38;5;28;01mreturn\u001b[39;00m pressed \u001b[38;5;241m!=\u001b[39m \u001b[38;5;241m0\u001b[39m\n\u001b[0;32m     28\u001b[0m \u001b[38;5;28;01mwhile\u001b[39;00m \u001b[38;5;28;01mTrue\u001b[39;00m:\n\u001b[1;32m---> 29\u001b[0m     report \u001b[38;5;241m=\u001b[39m \u001b[43mgamepad\u001b[49m\u001b[38;5;241;43m.\u001b[39;49m\u001b[43mread\u001b[49m\u001b[43m(\u001b[49m\u001b[38;5;241;43m64\u001b[39;49m\u001b[43m)\u001b[49m\n\u001b[0;32m     30\u001b[0m     \u001b[38;5;28;01mif\u001b[39;00m report:\n\u001b[0;32m     31\u001b[0m         horizontal \u001b[38;5;241m=\u001b[39m \u001b[38;5;241m0\u001b[39m\n",
      "\u001b[1;31mKeyboardInterrupt\u001b[0m: "
     ]
    }
   ],
   "source": [
    "from time import sleep\n",
    "from math import sqrt\n",
    "\n",
    "# BUTTON_TO_NT_INPUT = {\n",
    "#     # Manually authored for now\n",
    "#     \"Up arrow\": \"LEFT_Y_NEG\",\n",
    "#     \"Right arrow\": \"LEFT_X_POS\",\n",
    "#     \"Left arrow\": \"LEFT_X_NEG\",\n",
    "#     \"Down arrow\": \"LEFT_Y_POS\",\n",
    "#     \"Start\": \"RIGHT_X_POS\",\n",
    "#     \"Select\": \"RIGHT_X_NEG\",\n",
    "#     \"Center\": None, # N/A\n",
    "#     \"Top right circle\": [\"LEFT_Y_NEG\", \"LEFT_X_POS\"],\n",
    "#     \"Top left X\": [\"LEFT_Y_NEG\", \"LEFT_X_NEG\"],\n",
    "#     \"Bottom left triangle\": [\"LEFT_Y_POS\", \"LEFT_X_NEG\"],\n",
    "#     \"Bottom right square\": [\"LEFT_Y_POS\", \"LEFT_X_POS\"]\n",
    "# }\n",
    "\n",
    "def is_pressed(name):\n",
    "    bit = 0\n",
    "    for bit_bit, bit_name in BIT_NAMES.items():\n",
    "        if bit_name == name:\n",
    "            bit = bit_bit\n",
    "            break\n",
    "    pressed = report[bit // 8] & (1 << (bit % 8))\n",
    "    return pressed != 0\n",
    "\n",
    "while True:\n",
    "    report = gamepad.read(64)\n",
    "    if report:\n",
    "        horizontal = 0\n",
    "        vertical = 0\n",
    "        turn = 0\n",
    "        if is_pressed(\"Up arrow\"):\n",
    "            vertical += 1\n",
    "        if is_pressed(\"Down arrow\"):\n",
    "            vertical -= 1\n",
    "        if is_pressed(\"Left arrow\"):\n",
    "            horizontal -= 1\n",
    "        if is_pressed(\"Right arrow\"):\n",
    "            horizontal += 1\n",
    "        \n",
    "        if is_pressed(\"Top right circle\"):\n",
    "            vertical += 1\n",
    "            horizontal += 1\n",
    "        if is_pressed(\"Top left X\"):\n",
    "            vertical += 1\n",
    "            horizontal -= 1\n",
    "        if is_pressed(\"Bottom left triangle\"):\n",
    "            vertical -= 1\n",
    "            horizontal -= 1\n",
    "        if is_pressed(\"Bottom right square\"):\n",
    "            vertical -= 1\n",
    "            horizontal += 1\n",
    "        \n",
    "        if is_pressed(\"Start\"):\n",
    "            turn += 0.5\n",
    "        if is_pressed(\"Select\"):\n",
    "            turn -= 0.5\n",
    "        \n",
    "        drive_magnitude = 0.6\n",
    "        current_drive_mag = sqrt(horizontal * horizontal + vertical * vertical)\n",
    "        if current_drive_mag == 0:\n",
    "            current_drive_mag = 1\n",
    "        horizontal /= current_drive_mag / drive_magnitude\n",
    "        vertical /= current_drive_mag / drive_magnitude\n",
    "\n",
    "        # if vertical != 0 or horizontal != 0:\n",
    "        #     print(horizontal, vertical)\n",
    "\n",
    "        virtualGamepad.left_joystick_float(horizontal, vertical)\n",
    "        virtualGamepad.right_joystick_float(turn, 0)\n",
    "        virtualGamepad.update()"
   ]
  },
  {
   "cell_type": "code",
   "execution_count": 7,
   "metadata": {},
   "outputs": [],
   "source": [
    "from time import sleep\n",
    "\n",
    "virtualGamepad.press_button(button=vg.XUSB_BUTTON.XUSB_GAMEPAD_A)\n",
    "virtualGamepad.press_button(button=vg.XUSB_BUTTON.XUSB_GAMEPAD_DPAD_LEFT)\n",
    "\n",
    "virtualGamepad.update()\n",
    "\n",
    "sleep(0.5)\n",
    "\n",
    "virtualGamepad.release_button(button=vg.XUSB_BUTTON.XUSB_GAMEPAD_A)\n",
    "\n",
    "virtualGamepad.update()\n",
    "\n",
    "sleep(0.5)\n",
    "\n",
    "virtualGamepad.left_trigger(value=100)  # value between 0 and 255\n",
    "virtualGamepad.right_trigger(value=255)  # value between 0 and 255\n",
    "virtualGamepad.left_joystick(x_value=-10000, y_value=0)  # values between -32768 and 32767\n",
    "virtualGamepad.right_joystick(x_value=-32768, y_value=15000)  # values between -32768 and 32767\n",
    "\n",
    "virtualGamepad.update()\n",
    "\n",
    "sleep(0.5)\n",
    "\n",
    "virtualGamepad.reset()\n",
    "virtualGamepad.update()"
   ]
  },
  {
   "cell_type": "code",
   "execution_count": null,
   "metadata": {},
   "outputs": [],
   "source": [
    "v"
   ]
  }
 ],
 "metadata": {
  "kernelspec": {
   "display_name": ".venv",
   "language": "python",
   "name": "python3"
  },
  "language_info": {
   "codemirror_mode": {
    "name": "ipython",
    "version": 3
   },
   "file_extension": ".py",
   "mimetype": "text/x-python",
   "name": "python",
   "nbconvert_exporter": "python",
   "pygments_lexer": "ipython3",
   "version": "3.11.2"
  }
 },
 "nbformat": 4,
 "nbformat_minor": 2
}
